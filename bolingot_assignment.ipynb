{
  "nbformat": 4,
  "nbformat_minor": 0,
  "metadata": {
    "colab": {
      "name": "bolingot-assignment.ipynb",
      "version": "0.3.2",
      "provenance": [],
      "include_colab_link": true
    },
    "kernelspec": {
      "name": "python2",
      "display_name": "Python 2"
    }
  },
  "cells": [
    {
      "cell_type": "markdown",
      "metadata": {
        "id": "view-in-github",
        "colab_type": "text"
      },
      "source": [
        "[View in Colaboratory](https://colab.research.google.com/github/halordbo/Lecture-1/blob/master/bolingot_assignment.ipynb)"
      ]
    },
    {
      "metadata": {
        "id": "iM8sitRYn3C0",
        "colab_type": "code",
        "colab": {
          "base_uri": "https://localhost:8080/",
          "height": 34
        },
        "outputId": "4ad774f6-ea0c-48d4-cf7d-5c086dabb67f"
      },
      "cell_type": "code",
      "source": [
        "7845+2345"
      ],
      "execution_count": 1,
      "outputs": [
        {
          "output_type": "execute_result",
          "data": {
            "text/plain": [
              "10190"
            ]
          },
          "metadata": {
            "tags": []
          },
          "execution_count": 1
        }
      ]
    },
    {
      "metadata": {
        "id": "u_E_4iYpoMcP",
        "colab_type": "code",
        "colab": {
          "base_uri": "https://localhost:8080/",
          "height": 34
        },
        "outputId": "93fb9cce-d5ce-44c2-87a2-037d7d26ae83"
      },
      "cell_type": "code",
      "source": [
        "89.23-45.2"
      ],
      "execution_count": 2,
      "outputs": [
        {
          "output_type": "execute_result",
          "data": {
            "text/plain": [
              "44.03"
            ]
          },
          "metadata": {
            "tags": []
          },
          "execution_count": 2
        }
      ]
    },
    {
      "metadata": {
        "id": "SSQdOTeyoUKV",
        "colab_type": "code",
        "colab": {
          "base_uri": "https://localhost:8080/",
          "height": 34
        },
        "outputId": "ec03165a-c690-43cd-cc4b-f5c27524c046"
      },
      "cell_type": "code",
      "source": [
        "56*72"
      ],
      "execution_count": 3,
      "outputs": [
        {
          "output_type": "execute_result",
          "data": {
            "text/plain": [
              "4032"
            ]
          },
          "metadata": {
            "tags": []
          },
          "execution_count": 3
        }
      ]
    },
    {
      "metadata": {
        "id": "J0bO5FXUoVqV",
        "colab_type": "code",
        "colab": {
          "base_uri": "https://localhost:8080/",
          "height": 34
        },
        "outputId": "384f4b23-34ea-48d8-baa0-5fd0774f253f"
      },
      "cell_type": "code",
      "source": [
        "9846/47"
      ],
      "execution_count": 4,
      "outputs": [
        {
          "output_type": "execute_result",
          "data": {
            "text/plain": [
              "209"
            ]
          },
          "metadata": {
            "tags": []
          },
          "execution_count": 4
        }
      ]
    },
    {
      "metadata": {
        "id": "ooe8OB3ToWwk",
        "colab_type": "code",
        "colab": {
          "base_uri": "https://localhost:8080/",
          "height": 34
        },
        "outputId": "b23f456e-a328-4d4d-aebc-5b0115bf627d"
      },
      "cell_type": "code",
      "source": [
        "3^32"
      ],
      "execution_count": 5,
      "outputs": [
        {
          "output_type": "execute_result",
          "data": {
            "text/plain": [
              "35"
            ]
          },
          "metadata": {
            "tags": []
          },
          "execution_count": 5
        }
      ]
    },
    {
      "metadata": {
        "id": "HXvBPM3fpKQd",
        "colab_type": "code",
        "colab": {
          "base_uri": "https://localhost:8080/",
          "height": 102
        },
        "outputId": "ca2d51a8-2bb8-4a89-d847-df0fbe6d5188"
      },
      "cell_type": "code",
      "source": [
        "from __future__ import print_function\n",
        "\n",
        "k = 0\n",
        "rows = 5\n",
        "for i in range(1, rows+1):\n",
        "    for space in range(1, (rows-i)+1):\n",
        "        print(end=\"  \")\n",
        "    while k != (2*i-1):\n",
        "        print(\"* \", end=\"\")\n",
        "        k = k + 1\n",
        "    k = 0\n",
        "    print()"
      ],
      "execution_count": 12,
      "outputs": [
        {
          "output_type": "stream",
          "text": [
            "        * \n",
            "      * * * \n",
            "    * * * * * \n",
            "  * * * * * * * \n",
            "* * * * * * * * * \n"
          ],
          "name": "stdout"
        }
      ]
    },
    {
      "metadata": {
        "id": "2e7JfsJ9qDf6",
        "colab_type": "code",
        "colab": {
          "base_uri": "https://localhost:8080/",
          "height": 187
        },
        "outputId": "a9fccc9d-de07-4610-8145-be194b9b6dce"
      },
      "cell_type": "code",
      "source": [
        "def fib():\n",
        "    a, b = 0, 1\n",
        "    while True:            \n",
        "        yield a            \n",
        "        a, b = b, a + b\n",
        "\n",
        "for index, fibonacci_number in zip(range(10), fib()):\n",
        "     print('{i:3}: {f:3}'.format(i=index, f=fibonacci_number))"
      ],
      "execution_count": 13,
      "outputs": [
        {
          "output_type": "stream",
          "text": [
            "  0:   0\n",
            "  1:   1\n",
            "  2:   1\n",
            "  3:   2\n",
            "  4:   3\n",
            "  5:   5\n",
            "  6:   8\n",
            "  7:  13\n",
            "  8:  21\n",
            "  9:  34\n"
          ],
          "name": "stdout"
        }
      ]
    },
    {
      "metadata": {
        "id": "acxj4oyvq4w-",
        "colab_type": "code",
        "colab": {
          "base_uri": "https://localhost:8080/",
          "height": 34
        },
        "outputId": "194498fb-f970-45e8-ad86-8df9c77c4850"
      },
      "cell_type": "code",
      "source": [
        "List_1=[23,1,34,79,45,56,88,5,90]\n",
        "max(List_1)"
      ],
      "execution_count": 14,
      "outputs": [
        {
          "output_type": "execute_result",
          "data": {
            "text/plain": [
              "90"
            ]
          },
          "metadata": {
            "tags": []
          },
          "execution_count": 14
        }
      ]
    },
    {
      "metadata": {
        "id": "JOIWSYeBrFGb",
        "colab_type": "code",
        "colab": {
          "base_uri": "https://localhost:8080/",
          "height": 34
        },
        "outputId": "c6e31fb2-042b-43e4-992a-1b45cdf43cf1"
      },
      "cell_type": "code",
      "source": [
        "min(List_1)"
      ],
      "execution_count": 15,
      "outputs": [
        {
          "output_type": "execute_result",
          "data": {
            "text/plain": [
              "1"
            ]
          },
          "metadata": {
            "tags": []
          },
          "execution_count": 15
        }
      ]
    },
    {
      "metadata": {
        "id": "5Te0uEL8rJZy",
        "colab_type": "code",
        "colab": {
          "base_uri": "https://localhost:8080/",
          "height": 34
        },
        "outputId": "a6d70b9a-87fe-4935-db19-4e2a4d6f1fbd"
      },
      "cell_type": "code",
      "source": [
        "List_1=[23,1,34,79,45,56,88,5,90]\n",
        "List_2=[23,1,34,179,45,56,88,5,90]\n",
        "\n",
        "cmp(List_1, List_2)"
      ],
      "execution_count": 16,
      "outputs": [
        {
          "output_type": "execute_result",
          "data": {
            "text/plain": [
              "-1"
            ]
          },
          "metadata": {
            "tags": []
          },
          "execution_count": 16
        }
      ]
    },
    {
      "metadata": {
        "id": "u1gLpAvarYGf",
        "colab_type": "code",
        "colab": {
          "base_uri": "https://localhost:8080/",
          "height": 34
        },
        "outputId": "bc6abbc8-ad72-436e-8248-db6ca1fc3336"
      },
      "cell_type": "code",
      "source": [
        "List_1=[23,1,34,79,45,56,88,5,90]\n",
        "List_1.reverse()\n",
        "print(List_1)"
      ],
      "execution_count": 19,
      "outputs": [
        {
          "output_type": "stream",
          "text": [
            "[90, 5, 88, 56, 45, 79, 34, 1, 23]\n"
          ],
          "name": "stdout"
        }
      ]
    },
    {
      "metadata": {
        "id": "penz12NTrlS2",
        "colab_type": "code",
        "colab": {
          "base_uri": "https://localhost:8080/",
          "height": 34
        },
        "outputId": "3d9aef41-7ff5-4d3e-9137-fa97da98a9ac"
      },
      "cell_type": "code",
      "source": [
        "List_1.sort()\n",
        "print(List_1)"
      ],
      "execution_count": 20,
      "outputs": [
        {
          "output_type": "stream",
          "text": [
            "[1, 5, 23, 34, 45, 56, 79, 88, 90]\n"
          ],
          "name": "stdout"
        }
      ]
    },
    {
      "metadata": {
        "id": "K-NnktgyrzPF",
        "colab_type": "code",
        "colab": {
          "base_uri": "https://localhost:8080/",
          "height": 34
        },
        "outputId": "d3296e17-787a-4eef-b653-5905141147a7"
      },
      "cell_type": "code",
      "source": [
        "tuple=(123, 'john')\n",
        "list(tuple)\n",
        "print (tuple)"
      ],
      "execution_count": 21,
      "outputs": [
        {
          "output_type": "stream",
          "text": [
            "(123, 'john')\n"
          ],
          "name": "stdout"
        }
      ]
    },
    {
      "metadata": {
        "id": "cSR7rPvtstcl",
        "colab_type": "code",
        "colab": {
          "base_uri": "https://localhost:8080/",
          "height": 119
        },
        "outputId": "8aeb5014-4dd4-4311-8b33-0ae298b31ead"
      },
      "cell_type": "code",
      "source": [
        "start = 1\n",
        "user = int(input(\"Enter input: \"))\n",
        "\n",
        "print(\"Prime numbers up to\",user,\":\")\n",
        "\n",
        "for num in range(start,user + 1):\n",
        "   if num > 1:\n",
        "       for i in range(2,num):\n",
        "           if (num % i) == 0:\n",
        "               break\n",
        "       else:\n",
        "           print(num)"
      ],
      "execution_count": 27,
      "outputs": [
        {
          "output_type": "stream",
          "text": [
            "Enter input: 7\n",
            "Prime numbers up to 7 :\n",
            "2\n",
            "3\n",
            "5\n",
            "7\n"
          ],
          "name": "stdout"
        }
      ]
    },
    {
      "metadata": {
        "id": "n8wQg0ipvB8r",
        "colab_type": "code",
        "colab": {
          "base_uri": "https://localhost:8080/",
          "height": 318
        },
        "outputId": "6c524e79-b726-40bf-fda4-7a61f4769b99"
      },
      "cell_type": "code",
      "source": [
        "import math\n",
        "\n",
        "things=[1,2,3,4,5,6,7,8,9,10,11,12,13,14,15,16,17,18,19,20,21,22,23,24,25,26,27,28,29,30,31,32,33,34,35,36,37,38,39,40,41,42,43,44,45,46,47,48,49,50,51,52,53,54,55,56,57,58,59,60,61,62,63,64,65,66,67,68,69,70,71,72,73,74,75,76,77,78,79,80,81,82,83,84,85,86,87,88,89,90,91,92,93,94,95,96,97,98,99,100]\n",
        "\n",
        " BinarySearch_Rightthings, value) {\n",
        "      low = 0\n",
        "      high = N - 1\n",
        "      while (low <= high) {\n",
        "          // invariants: value >= A[i] for all i < low\n",
        "                         value < A[i] for all i > high\n",
        "          mid = (low + high) / 2\n",
        "          if (A[mid] > value)\n",
        "              high = mid - 1\n",
        "          else\n",
        "              low = mid + 1\n",
        "      }\n",
        "      return low\n",
        "  }"
      ],
      "execution_count": 35,
      "outputs": [
        {
          "output_type": "error",
          "ename": "TypeError",
          "evalue": "ignored",
          "traceback": [
            "\u001b[0;31m\u001b[0m",
            "\u001b[0;31mTypeError\u001b[0mTraceback (most recent call last)",
            "\u001b[0;32m<ipython-input-35-744cbbcdfed1>\u001b[0m in \u001b[0;36m<module>\u001b[0;34m()\u001b[0m\n\u001b[1;32m     17\u001b[0m   \u001b[0;32mprint\u001b[0m\u001b[0;34m(\u001b[0m\u001b[0mtarget\u001b[0m\u001b[0;34m,\u001b[0m \u001b[0;34m\"not Found!\"\u001b[0m\u001b[0;34m)\u001b[0m\u001b[0;34m\u001b[0m\u001b[0m\n\u001b[1;32m     18\u001b[0m \u001b[0;34m\u001b[0m\u001b[0m\n\u001b[0;32m---> 19\u001b[0;31m \u001b[0mbinarySearch\u001b[0m\u001b[0;34m(\u001b[0m\u001b[0mthings\u001b[0m\u001b[0;34m,\u001b[0m \u001b[0;36m49\u001b[0m\u001b[0;34m)\u001b[0m\u001b[0;34m\u001b[0m\u001b[0m\n\u001b[0m",
            "\u001b[0;32m<ipython-input-35-744cbbcdfed1>\u001b[0m in \u001b[0;36mbinarySearch\u001b[0;34m(things, target)\u001b[0m\n\u001b[1;32m      8\u001b[0m   \u001b[0;32mwhile\u001b[0m \u001b[0mstart\u001b[0m \u001b[0;34m<=\u001b[0m \u001b[0mend\u001b[0m\u001b[0;34m:\u001b[0m\u001b[0;34m\u001b[0m\u001b[0m\n\u001b[1;32m      9\u001b[0m     \u001b[0mmiddle\u001b[0m \u001b[0;34m=\u001b[0m \u001b[0mmath\u001b[0m\u001b[0;34m.\u001b[0m\u001b[0mfloor\u001b[0m\u001b[0;34m(\u001b[0m\u001b[0;34m(\u001b[0m\u001b[0mend\u001b[0m \u001b[0;34m+\u001b[0m \u001b[0mstart\u001b[0m\u001b[0;34m)\u001b[0m \u001b[0;34m/\u001b[0m \u001b[0;36m2\u001b[0m\u001b[0;34m)\u001b[0m\u001b[0;34m\u001b[0m\u001b[0m\n\u001b[0;32m---> 10\u001b[0;31m     \u001b[0;32mif\u001b[0m \u001b[0mthings\u001b[0m\u001b[0;34m[\u001b[0m\u001b[0mmiddle\u001b[0m\u001b[0;34m]\u001b[0m \u001b[0;34m==\u001b[0m \u001b[0mtarget\u001b[0m\u001b[0;34m:\u001b[0m\u001b[0;34m\u001b[0m\u001b[0m\n\u001b[0m\u001b[1;32m     11\u001b[0m       \u001b[0;32mprint\u001b[0m\u001b[0;34m(\u001b[0m\u001b[0;34m\"Found\"\u001b[0m\u001b[0;34m,\u001b[0m \u001b[0mtarget\u001b[0m\u001b[0;34m,\u001b[0m \u001b[0;34m\"at spot\"\u001b[0m\u001b[0;34m,\u001b[0m \u001b[0mmiddle\u001b[0m\u001b[0;34m)\u001b[0m\u001b[0;34m\u001b[0m\u001b[0m\n\u001b[1;32m     12\u001b[0m       \u001b[0;32mreturn\u001b[0m\u001b[0;34m\u001b[0m\u001b[0m\n",
            "\u001b[0;31mTypeError\u001b[0m: list indices must be integers, not float"
          ]
        }
      ]
    },
    {
      "metadata": {
        "id": "-JaMK9v736QL",
        "colab_type": "code",
        "colab": {
          "base_uri": "https://localhost:8080/",
          "height": 34
        },
        "outputId": "e17a46d5-ac89-444b-a20a-31c6d79715a9"
      },
      "cell_type": "code",
      "source": [
        "original = \"Shibata sensei is awesome!!!\"\n",
        "splitter = original.split()\n",
        "splitter.reverse()\n",
        "final = \" \".join(splitter)\n",
        "print(final)"
      ],
      "execution_count": 38,
      "outputs": [
        {
          "output_type": "stream",
          "text": [
            "awesome!!! is sensei Shibata\n"
          ],
          "name": "stdout"
        }
      ]
    }
  ]
}